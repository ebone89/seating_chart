{
  "cells": [
    {
      "cell_type": "markdown",
      "metadata": {
        "id": "view-in-github",
        "colab_type": "text"
      },
      "source": [
        "<a href=\"https://colab.research.google.com/github/ebone89/seating_chart/blob/main/Seating_Chart.ipynb\" target=\"_parent\"><img src=\"https://colab.research.google.com/assets/colab-badge.svg\" alt=\"Open In Colab\"/></a>"
      ]
    },
    {
      "cell_type": "markdown",
      "source": [],
      "metadata": {
        "id": "fY5qTOInbjdi"
      }
    },
    {
      "cell_type": "markdown",
      "source": [
        "#First Iteration"
      ],
      "metadata": {
        "id": "Nvu9GZypbfzC"
      }
    },
    {
      "cell_type": "code",
      "execution_count": null,
      "metadata": {
        "colab": {
          "base_uri": "https://localhost:8080/"
        },
        "id": "zaQ0Tfd4FpSp",
        "outputId": "b0dcd501-d4ed-473f-a56d-0d5622aee809"
      },
      "outputs": [
        {
          "output_type": "stream",
          "name": "stdout",
          "text": [
            "Enter number of rows: 2\n",
            "Enter number of seats per row: 5\n",
            "Enter name of student 1: Ethan\n",
            "Enter number of absences for Ethan: 0\n",
            "Enter name of student 2: Brittany\n",
            "Enter number of absences for Brittany: 0\n",
            "Enter name of student 3: Shane\n",
            "Enter number of absences for Shane: 0\n",
            "Enter name of student 4: Trayton\n",
            "Enter number of absences for Trayton: 2\n",
            "Enter name of student 5: Debbie\n",
            "Enter number of absences for Debbie: 1\n",
            "Enter name of student 6: Scott\n",
            "Enter number of absences for Scott: 1\n",
            "Enter name of student 7: Grizz\n",
            "Enter number of absences for Grizz: 3\n",
            "Enter name of student 8: Ray\n",
            "Enter number of absences for Ray: 2\n",
            "Enter name of student 9: Sweetie 12\n",
            "Enter number of absences for Sweetie 12: Leroy\n",
            "Enter name of student 10: Leroy\n",
            "Enter number of absences for Leroy: 10\n",
            "\n",
            "Seating Chart:\n",
            "Ethan (0 absences)\tBrittany (0 absences)\tShane (0 absences)\tTrayton (2 absences)\tDebbie (1 absences)\t\n",
            "Scott (1 absences)\tGrizz (3 absences)\tRay (2 absences)\tSweetie 12 (Leroy absences)\tLeroy (10 absences)\t\n"
          ]
        }
      ],
      "source": [
        "def main():\n",
        "    # ask the user for the number of rows and how many seats per row\n",
        "    rows = int(input(\"Enter number of rows: \"))\n",
        "    cols = int(input(\"Enter number of seats per row: \"))\n",
        "    total_seats = rows * cols\n",
        "\n",
        "# Store student info\n",
        "    students = []\n",
        "    for i in range(10):\n",
        "        name = input(f\"Enter name of student {i+1}: \")\n",
        "        absences = input(f\"Enter number of absences for {name}: \")\n",
        "        students.append((name, absences))\n",
        "\n",
        "# Create the chart\n",
        "    seating_chart = []\n",
        "    student_index = 0\n",
        "    for r in range(rows):\n",
        "        row = []\n",
        "        for c in range(cols):\n",
        "            if student_index < len(students):\n",
        "                row.append(students[student_index])\n",
        "                student_index += 1\n",
        "            else:\n",
        "                # If there are extra seats, mark them as empty.\n",
        "                row.append((\"Empty\", \"\"))\n",
        "        seating_chart.append(row)\n",
        "\n",
        "# Output the seating chart in the given structure.\n",
        "    print(\"\\nSeating Chart:\")\n",
        "    for row in seating_chart:\n",
        "        for seat in row:\n",
        "            if seat[0] == \"Empty\":\n",
        "                print(\"Empty\", end=\"\\t\")\n",
        "            else:\n",
        "# Print name and absences with new line after each row\n",
        "                print(f\"{seat[0]} ({seat[1]} absences)\", end=\"\\t\")\n",
        "        print()\n",
        "if __name__ == '__main__':\n",
        "    main()\n"
      ]
    },
    {
      "cell_type": "markdown",
      "source": [
        "# Imporved Version of the seating chart"
      ],
      "metadata": {
        "id": "IpaVtp0ua6H_"
      }
    },
    {
      "cell_type": "code",
      "source": [
        "def print_seating_chart(seating_chart):\n",
        "    # Convert each seat to a string representation.\n",
        "    table = []\n",
        "    for row in seating_chart:\n",
        "        row_cells = []\n",
        "        for seat in row:\n",
        "            if seat[0] == \"Empty\":\n",
        "                cell_str = \"Empty\"\n",
        "            else:\n",
        "                cell_str = f\"{seat[0]} ({seat[1]} absences)\"\n",
        "            row_cells.append(cell_str)\n",
        "        table.append(row_cells)\n",
        "\n",
        "    # Determine the maximum width for each column.\n",
        "    cols = len(table[0])\n",
        "    col_widths = [0] * cols\n",
        "    for row in table:\n",
        "        for j, cell in enumerate(row):\n",
        "            col_widths[j] = max(col_widths[j], len(cell))\n",
        "\n",
        "    # Function to print a horizontal separator.\n",
        "    def print_separator():\n",
        "        line = \"+\"\n",
        "        for width in col_widths:\n",
        "            line += \"-\" * (width + 2) + \"+\"\n",
        "        print(line)\n",
        "\n",
        "    # Print the table with borders.\n",
        "    for row in table:\n",
        "        print_separator()\n",
        "        row_line = \"\"\n",
        "        for j, cell in enumerate(row):\n",
        "            row_line += f\"| {cell.ljust(col_widths[j])} \"\n",
        "        row_line += \"|\"\n",
        "        print(row_line)\n",
        "    print_separator()\n",
        "\n",
        "def main():\n",
        "    # Ensure the seating chart can hold at least 10 students.\n",
        "    while True:\n",
        "        rows = int(input(\"Enter number of rows: \"))\n",
        "        cols = int(input(\"Enter number of seats per row: \"))\n",
        "        if rows * cols < 10:\n",
        "            print(\"The seating chart must have at least 10 seats. Please try again.\")\n",
        "        else:\n",
        "            break\n",
        "\n",
        "    # Store student info.\n",
        "    students = []\n",
        "    for i in range(10):\n",
        "        name = input(f\"Enter name of student {i+1}: \")\n",
        "        absences = input(f\"Enter number of absences for {name}: \")\n",
        "        students.append((name, absences))\n",
        "\n",
        "    # Create the seating chart.\n",
        "    seating_chart = []\n",
        "    student_index = 0\n",
        "    for r in range(rows):\n",
        "        row = []\n",
        "        for c in range(cols):\n",
        "            if student_index < len(students):\n",
        "                row.append(students[student_index])\n",
        "                student_index += 1\n",
        "            else:\n",
        "                # If there are extra seats, mark them as empty.\n",
        "                row.append((\"Empty\", \"\"))\n",
        "        seating_chart.append(row)\n",
        "\n",
        "    # Output the seating chart in an improved table format.\n",
        "    print(\"\\nSeating Chart:\")\n",
        "    print_seating_chart(seating_chart)\n",
        "\n",
        "if __name__ == '__main__':\n",
        "    main()\n"
      ],
      "metadata": {
        "id": "dQYzF4pmbA9-"
      },
      "execution_count": null,
      "outputs": []
    }
  ],
  "metadata": {
    "colab": {
      "provenance": [],
      "collapsed_sections": [
        "Nvu9GZypbfzC"
      ],
      "toc_visible": true,
      "include_colab_link": true
    },
    "kernelspec": {
      "display_name": "Python 3",
      "name": "python3"
    },
    "language_info": {
      "name": "python",
      "version": "3.13.1"
    }
  },
  "nbformat": 4,
  "nbformat_minor": 0
}